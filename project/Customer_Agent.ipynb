{
 "cells": [
  {
   "cell_type": "code",
   "execution_count": 4,
   "metadata": {},
   "outputs": [
    {
     "name": "stdout",
     "output_type": "stream",
     "text": [
      "hello thank you for calling Amazon customer support my name is Alex how can I assist you today I need to return a product I purchase last week sure I would be happy to help with that could you please provide your order number yes the order number is 56789 thank you just to confirm is this for the wireless headphones you purchase on January 15th yes that's correct I will process the return for you before we proceed I want to inform you of Return policy returns must be initiated within 1330 days of purchase and the item must be in its original packaging show your security please do not share any sensitive information like your credit card details account password during this school my credit card number with your call you yesterday 1234567 8987 6543200 I didn't know that I have initiated the return process you will receive a confirmation email within 24 hours and return label with will be sent to you registered email is there anything else I can help you with today no that's all thank you for choosing if you have further questions feel free to reach out have a great day thank you bye good bye\n"
     ]
    }
   ],
   "source": [
    "import nltk\n",
    "import speech_recognition as sr\n",
    "\n",
    "def Speech_to_text(audio_file):\n",
    "\n",
    "    r = sr.Recognizer()\n",
    "    with sr.AudioFile(audio_file) as source:\n",
    "        audio = r.record(source)\n",
    "    text = r.recognize_google(audio)\n",
    "    print(text)\n",
    "    return text\n",
    "\n",
    "text = Speech_to_text(\"Full_Call.wav\")"
   ]
  },
  {
   "cell_type": "code",
   "execution_count": 2,
   "metadata": {},
   "outputs": [
    {
     "name": "stdout",
     "output_type": "stream",
     "text": [
      "Detected Greetings: ['hello', 'hi', 'thank you for calling']\n",
      "Detected Closing Statements: ['thank you for calling', 'have a great day', 'thank you for choosing', 'thank you']\n",
      "Detected Disclaimers: ['please do not share any sensitive information', 'returns must be initiated within']\n"
     ]
    }
   ],
   "source": [
    "# Lists of phrases\n",
    "greetings = [\n",
    "    \"hello\", \"hi\", \"good morning\", \"good afternoon\", \"good evening\", \n",
    "    \"greetings\", \"hey\", \"how can I help you?\", \"how may I assist you today?\", \n",
    "    \"welcome to\", \"thank you for calling\", \"this is\", \"thank you for reaching out.\", \n",
    "    \"welcome to our customer support\"\n",
    "]\n",
    "\n",
    "closing_statements = [\n",
    "    \"thank you for calling\", \"have a great day\", \"goodbye\", \"take care\", \n",
    "    \"have a nice day\", \"stay safe\", \"thank you for choosing\", \n",
    "    \"if you have further questions, feel free to reach out\", \n",
    "    \"we’re here if you need any more help\", \"it was my pleasure assisting you\", \n",
    "    \"let us know if there’s anything else we can do for you\", \n",
    "    \"thank you\" ,\"goodbye\"\n",
    "]\n",
    "\n",
    "disclaimers = [ \n",
    "    'please do not share any sensitive information',\n",
    "    \"for your security\", \"avoid disclosing personal information\" \"avoid disclosing personal information during this call\", \n",
    "    \"your privacy is important to us. do not share confidential details\", \n",
    "    \"returns must be initiated within\", \"by proceeding with this call, you agree to our terms and conditions\", \n",
    "    \"all calls may be monitored or recorded for quality and training purposes\", \n",
    "    \"we value your privacy and ensure all data is handled securely\", \n",
    "    \"please review our privacy policy on\"\n",
    "]\n",
    "\n",
    "# Function to detect phrases in text\n",
    "def detect_phrases(text, phrase_list):\n",
    "    detected_phrases = []\n",
    "    for phrase in phrase_list:\n",
    "        if phrase.lower() in text.lower():\n",
    "            detected_phrases.append(phrase)\n",
    "    return detected_phrases\n",
    "\n",
    "\n",
    "# Detecting phrases\n",
    "detected_greetings = detect_phrases(text, greetings)\n",
    "detected_closing_statements = detect_phrases(text, closing_statements)\n",
    "detected_disclaimers = detect_phrases(text, disclaimers)\n",
    "\n",
    "# Output results\n",
    "print(\"Detected Greetings:\", detected_greetings)\n",
    "print(\"Detected Closing Statements:\", detected_closing_statements)\n",
    "print(\"Detected Disclaimers:\", detected_disclaimers)\n"
   ]
  },
  {
   "cell_type": "code",
   "execution_count": null,
   "metadata": {},
   "outputs": [],
   "source": []
  },
  {
   "cell_type": "code",
   "execution_count": 3,
   "metadata": {},
   "outputs": [
    {
     "name": "stderr",
     "output_type": "stream",
     "text": [
      "c:\\Semester 6\\MLops\\Customer Service Agent\\Customer-Service-Assistant\\.venv\\Lib\\site-packages\\tqdm\\auto.py:21: TqdmWarning: IProgress not found. Please update jupyter and ipywidgets. See https://ipywidgets.readthedocs.io/en/stable/user_install.html\n",
      "  from .autonotebook import tqdm as notebook_tqdm\n",
      "c:\\Semester 6\\MLops\\Customer Service Agent\\Customer-Service-Assistant\\.venv\\Lib\\site-packages\\pyannote\\database\\util.py:182: SyntaxWarning: invalid escape sequence '\\s'\n",
      "  sep=\"\\s+\",\n",
      "c:\\Semester 6\\MLops\\Customer Service Agent\\Customer-Service-Assistant\\.venv\\Lib\\site-packages\\pyannote\\database\\util.py:216: SyntaxWarning: invalid escape sequence '\\s'\n",
      "  sep=\"\\s+\",\n",
      "c:\\Semester 6\\MLops\\Customer Service Agent\\Customer-Service-Assistant\\.venv\\Lib\\site-packages\\pyannote\\database\\util.py:253: SyntaxWarning: invalid escape sequence '\\s'\n",
      "  sep=\"\\s+\",\n",
      "c:\\Semester 6\\MLops\\Customer Service Agent\\Customer-Service-Assistant\\.venv\\Lib\\site-packages\\pyannote\\database\\util.py:284: SyntaxWarning: invalid escape sequence '\\s'\n",
      "  data = pd.read_csv(file_uem, names=names, dtype=dtype, sep=\"\\s+\")\n",
      "c:\\Semester 6\\MLops\\Customer Service Agent\\Customer-Service-Assistant\\.venv\\Lib\\site-packages\\pyannote\\database\\util.py:309: SyntaxWarning: invalid escape sequence '\\s'\n",
      "  data = pd.read_csv(path, names=names, dtype=dtype, sep=\"\\s+\")\n",
      "c:\\Semester 6\\MLops\\Customer Service Agent\\Customer-Service-Assistant\\.venv\\Lib\\site-packages\\pyannote\\database\\loader.py:93: SyntaxWarning: invalid escape sequence '\\s'\n",
      "  file_trial, sep=\"\\s+\", names=[\"reference\", \"uri1\", \"uri2\"]\n",
      "c:\\Semester 6\\MLops\\Customer Service Agent\\Customer-Service-Assistant\\.venv\\Lib\\site-packages\\pyannote\\database\\loader.py:292: SyntaxWarning: invalid escape sequence '\\s'\n",
      "  ctm, names=names, dtype=dtype, sep=\"\\s+\"\n",
      "c:\\Semester 6\\MLops\\Customer Service Agent\\Customer-Service-Assistant\\.venv\\Lib\\site-packages\\pyannote\\database\\loader.py:357: SyntaxWarning: invalid escape sequence '\\s'\n",
      "  mapping, names=names, dtype=dtype, sep=\"\\s+\"\n"
     ]
    },
    {
     "name": "stdout",
     "output_type": "stream",
     "text": [
      "\n",
      "Could not download 'pyannote/speaker-diarization-3.1' pipeline.\n",
      "It might be because the pipeline is private or gated so make\n",
      "sure to authenticate. Visit https://hf.co/settings/tokens to\n",
      "create your access token and retry with:\n",
      "\n",
      "   >>> Pipeline.from_pretrained('pyannote/speaker-diarization-3.1',\n",
      "   ...                          use_auth_token=YOUR_AUTH_TOKEN)\n",
      "\n",
      "If this still does not work, it might be because the pipeline is gated:\n",
      "visit https://hf.co/pyannote/speaker-diarization-3.1 to accept the user conditions.\n"
     ]
    },
    {
     "ename": "TypeError",
     "evalue": "'NoneType' object is not callable",
     "output_type": "error",
     "traceback": [
      "\u001b[1;31m---------------------------------------------------------------------------\u001b[0m",
      "\u001b[1;31mTypeError\u001b[0m                                 Traceback (most recent call last)",
      "Cell \u001b[1;32mIn[3], line 11\u001b[0m\n\u001b[0;32m      8\u001b[0m audio_file \u001b[38;5;241m=\u001b[39m \u001b[38;5;124m\"\u001b[39m\u001b[38;5;124mFull_Call.wav\u001b[39m\u001b[38;5;124m\"\u001b[39m\n\u001b[0;32m     10\u001b[0m \u001b[38;5;66;03m# Perform speaker diarization\u001b[39;00m\n\u001b[1;32m---> 11\u001b[0m diarization \u001b[38;5;241m=\u001b[39m \u001b[43mpipeline\u001b[49m\u001b[43m(\u001b[49m\u001b[43maudio_file\u001b[49m\u001b[43m)\u001b[49m\n\u001b[0;32m     13\u001b[0m \u001b[38;5;66;03m# Prepare the speech recognizer\u001b[39;00m\n\u001b[0;32m     14\u001b[0m recognizer \u001b[38;5;241m=\u001b[39m sr\u001b[38;5;241m.\u001b[39mRecognizer()\n",
      "\u001b[1;31mTypeError\u001b[0m: 'NoneType' object is not callable"
     ]
    }
   ],
   "source": [
    "from pyannote.audio import Pipeline\n",
    "import speech_recognition as sr\n",
    "\n",
    "# Initialize the pyannote pipeline for speaker diarization\n",
    "pipeline = Pipeline.from_pretrained(\"pyannote/speaker-diarization-3.1\", use_auth_token=\"<HUGGING_FACE_TOKEN>\")\n",
    "\n",
    "# Input audio file\n",
    "audio_file = \"Full_Call.wav\"\n",
    "\n",
    "# Perform speaker diarization\n",
    "diarization = pipeline(audio_file)\n",
    "\n",
    "# Prepare the speech recognizer\n",
    "recognizer = sr.Recognizer()\n",
    "\n",
    "# Map diarized segments to speakers\n",
    "speaker_segments = []\n",
    "\n",
    "with sr.AudioFile(audio_file) as source:\n",
    "    audio = recognizer.record(source)\n",
    "    for turn, _, speaker in diarization.itertracks(yield_label=True):\n",
    "        # Extract audio segment for each speaker\n",
    "        segment_audio = audio.get_segment(turn.start, turn.end)\n",
    "        # Transcribe the segment\n",
    "        try:\n",
    "            text = recognizer.recognize_google(segment_audio)\n",
    "        except sr.UnknownValueError:\n",
    "            text = \"[Unintelligible]\"\n",
    "        except sr.RequestError as e:\n",
    "            text = f\"[Error: {e}]\"\n",
    "\n",
    "        # Store speaker and their text\n",
    "        speaker_segments.append({\"speaker\": speaker, \"start\": turn.start, \"end\": turn.end, \"text\": text})\n",
    "\n",
    "# Display the results\n",
    "for segment in speaker_segments:\n",
    "    print(f\"{segment['speaker']} [{segment['start']:.2f}s - {segment['end']:.2f}s]: {segment['text']}\")\n"
   ]
  },
  {
   "cell_type": "markdown",
   "metadata": {},
   "source": [
    "<!-- PII Detection -->"
   ]
  },
  {
   "cell_type": "markdown",
   "metadata": {},
   "source": [
    "PII Detection"
   ]
  },
  {
   "cell_type": "code",
   "execution_count": 5,
   "metadata": {},
   "outputs": [
    {
     "name": "stdout",
     "output_type": "stream",
     "text": [
      "Detected PII: {'credit_card': ['4111 1111 1111 1111'], 'atm_pin': ['1234', '4111', '1111', '1111', '1111', '6789'], 'email': ['john.doe@example.com'], 'phone_number': ['+1-800-555-1234', '4111 1111 1111', '1111', '123456789012', '123-45-6789'], 'ssn': ['123-45-6789'], 'ip_address': ['192.168.1.1'], 'bank_account_number': ['123456789012']}\n",
      "Detected PII: {'atm_pin': ['1330', '8987'], 'phone_number': ['56789', '1330', '1234567 8987', '6543200']}\n"
     ]
    }
   ],
   "source": [
    "import re\n",
    "\n",
    "\n",
    "\n",
    "def detect_pii(text):\n",
    "    \"\"\"\n",
    "    Detects critical PII in the given text based on regex patterns.\n",
    "    Args:\n",
    "        text (str): Input text to scan for PII.\n",
    "    Returns:\n",
    "        dict: Dictionary of detected PII types and matches.\n",
    "    \"\"\"\n",
    "\n",
    "    # Define regex patterns for critical PII\n",
    "    pii_patterns = {\n",
    "        # Financial Information\n",
    "        \"credit_card\": r\"\\b(?:\\d{4}[ -]?){3}\\d{4}\\b\",  # Credit card numbers\n",
    "        \"atm_pin\": r\"\\b\\d{4}\\b\",  # ATM PINs (4 digits)\n",
    "\n",
    "        # Contact Information\n",
    "        \"email\": r\"\\b[A-Za-z0-9._%+-]+@[A-Za-z0-9.-]+\\.[A-Za-z]{2,}\\b\",  # Email addresses\n",
    "        \"phone_number\": r\"\\+?\\d{1,3}[ -]?\\(?\\d{1,4}\\)?[ -]?\\d{1,4}[ -]?\\d{1,4}\\b\",  # Phone numbers\n",
    "\n",
    "        # Identity Information\n",
    "        \"ssn\": r\"\\b\\d{3}-\\d{2}-\\d{4}\\b\",  # Social Security Numbers (SSNs)\n",
    "\n",
    "        # Network Information\n",
    "        \"ip_address\": r\"\\b(?:[0-9]{1,3}\\.){3}[0-9]{1,3}\\b\",  # IPv4 addresses\n",
    "\n",
    "        # Account Numbers\n",
    "        \"bank_account_number\": r\"\\b\\d{9,18}\\b\",  # Bank account numbers (9 to 18 digits)\n",
    "    }\n",
    "\n",
    "    detected_pii = {}\n",
    "    for pii_type, pattern in pii_patterns.items():\n",
    "        matches = re.findall(pattern, text)\n",
    "        if matches:\n",
    "            detected_pii[pii_type] = matches\n",
    "    return detected_pii\n",
    "\n",
    "# Example Usage\n",
    "sample_text = \"\"\"\n",
    "My email is john.doe@example.com and my phone number is +1-800-555-1234. \n",
    "My credit card number is 4111 1111 1111 1111, and my bank account number is 123456789012.\n",
    "My SSN is 123-45-6789, and I once logged in from IP 192.168.1.1.\n",
    "\"\"\"\n",
    "\n",
    "\n",
    "detected = detect_pii(sample_text)\n",
    "print(\"Detected PII:\", detected)\n",
    "\n",
    "detected = detect_pii(text)\n",
    "print(\"Detected PII:\", detected)\n"
   ]
  },
  {
   "cell_type": "code",
   "execution_count": null,
   "metadata": {},
   "outputs": [],
   "source": []
  },
  {
   "cell_type": "code",
   "execution_count": null,
   "metadata": {},
   "outputs": [],
   "source": []
  }
 ],
 "metadata": {
  "kernelspec": {
   "display_name": ".venv",
   "language": "python",
   "name": "python3"
  },
  "language_info": {
   "codemirror_mode": {
    "name": "ipython",
    "version": 3
   },
   "file_extension": ".py",
   "mimetype": "text/x-python",
   "name": "python",
   "nbconvert_exporter": "python",
   "pygments_lexer": "ipython3",
   "version": "3.12.5"
  }
 },
 "nbformat": 4,
 "nbformat_minor": 2
}
