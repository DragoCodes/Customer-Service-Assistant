{
 "cells": [
  {
   "cell_type": "code",
   "execution_count": 34,
   "metadata": {},
   "outputs": [
    {
     "name": "stdout",
     "output_type": "stream",
     "text": [
      "hello thank you for calling Amazon customer support my name is Alex how can I assist you today I need to return a product I purchase last week sure I would be happy to help with that could you please provide your order number yes the order number is 56789 thank you just to confirm is this for the wireless headphones you purchase on January 15th yes that's correct I will process the return for you before we proceed I want to inform you of Return policy returns must be initiated within 1330 days of purchase and the item must be in its original packaging show your security please do not share any sensitive information like your credit card details account password during this school my credit card number with your call you yesterday 1234567 8987 6543200 I didn't know that I have initiated the return process you will receive a confirmation email within 24 hours and return label with will be sent to you registered email is there anything else I can help you with today no that's all thank you for choosing if you have further questions feel free to reach out have a great day thank you bye good bye\n"
     ]
    }
   ],
   "source": [
    "import nltk\n",
    "import speech_recognition as sr\n",
    "\n",
    "r = sr.Recognizer()\n",
    "with sr.AudioFile(\"Full_Call.wav\") as source:\n",
    "    audio = r.record(source)\n",
    "text = r.recognize_google(audio)\n",
    "print(text)"
   ]
  },
  {
   "cell_type": "code",
   "execution_count": 38,
   "metadata": {},
   "outputs": [
    {
     "name": "stdout",
     "output_type": "stream",
     "text": [
      "Detected Greetings: ['hello', 'hi', 'thank you for calling']\n",
      "Detected Closing Statements: ['thank you for calling', 'have a great day', 'thank you for choosing', 'thank you']\n",
      "Detected Disclaimers: ['please do not share any sensitive information', 'returns must be initiated within']\n"
     ]
    }
   ],
   "source": [
    "# Lists of phrases\n",
    "greetings = [\n",
    "    \"hello\", \"hi\", \"good morning\", \"good afternoon\", \"good evening\", \n",
    "    \"greetings\", \"hey\", \"how can I help you?\", \"how may I assist you today?\", \n",
    "    \"welcome to\", \"thank you for calling\", \"this is\", \"thank you for reaching out.\", \n",
    "    \"welcome to our customer support\"\n",
    "]\n",
    "\n",
    "closing_statements = [\n",
    "    \"thank you for calling\", \"have a great day\", \"goodbye\", \"take care\", \n",
    "    \"have a nice day\", \"stay safe\", \"thank you for choosing\", \n",
    "    \"if you have further questions, feel free to reach out\", \n",
    "    \"we’re here if you need any more help\", \"it was my pleasure assisting you\", \n",
    "    \"let us know if there’s anything else we can do for you\", \n",
    "    \"thank you\" ,\"goodbye\"\n",
    "]\n",
    "\n",
    "disclaimers = [ \n",
    "    'please do not share any sensitive information',\n",
    "    \"for your security\", \"avoid disclosing personal information\" \"avoid disclosing personal information during this call\", \n",
    "    \"your privacy is important to us. do not share confidential details\", \n",
    "    \"returns must be initiated within\", \"by proceeding with this call, you agree to our terms and conditions\", \n",
    "    \"all calls may be monitored or recorded for quality and training purposes\", \n",
    "    \"we value your privacy and ensure all data is handled securely\", \n",
    "    \"please review our privacy policy on\"\n",
    "]\n",
    "\n",
    "# Function to detect phrases in text\n",
    "def detect_phrases(text, phrase_list):\n",
    "    detected_phrases = []\n",
    "    for phrase in phrase_list:\n",
    "        if phrase.lower() in text.lower():\n",
    "            detected_phrases.append(phrase)\n",
    "    return detected_phrases\n",
    "\n",
    "\n",
    "# Detecting phrases\n",
    "detected_greetings = detect_phrases(text, greetings)\n",
    "detected_closing_statements = detect_phrases(text, closing_statements)\n",
    "detected_disclaimers = detect_phrases(text, disclaimers)\n",
    "\n",
    "# Output results\n",
    "print(\"Detected Greetings:\", detected_greetings)\n",
    "print(\"Detected Closing Statements:\", detected_closing_statements)\n",
    "print(\"Detected Disclaimers:\", detected_disclaimers)\n"
   ]
  },
  {
   "cell_type": "code",
   "execution_count": null,
   "metadata": {},
   "outputs": [],
   "source": []
  },
  {
   "cell_type": "code",
   "execution_count": null,
   "metadata": {},
   "outputs": [],
   "source": [
    "from pyannote.audio import Pipeline\n",
    "import speech_recognition as sr\n",
    "\n",
    "# Initialize the pyannote pipeline for speaker diarization\n",
    "pipeline = Pipeline.from_pretrained(\"pyannote/speaker-diarization-3.1\", use_auth_token=\"<HUGGING_FACE_TOKEN>\")\n",
    "\n",
    "# Input audio file\n",
    "audio_file = \"Full_Call.wav\"\n",
    "\n",
    "# Perform speaker diarization\n",
    "diarization = pipeline(audio_file)\n",
    "\n",
    "# Prepare the speech recognizer\n",
    "recognizer = sr.Recognizer()\n",
    "\n",
    "# Map diarized segments to speakers\n",
    "speaker_segments = []\n",
    "\n",
    "with sr.AudioFile(audio_file) as source:\n",
    "    audio = recognizer.record(source)\n",
    "    for turn, _, speaker in diarization.itertracks(yield_label=True):\n",
    "        # Extract audio segment for each speaker\n",
    "        segment_audio = audio.get_segment(turn.start, turn.end)\n",
    "        # Transcribe the segment\n",
    "        try:\n",
    "            text = recognizer.recognize_google(segment_audio)\n",
    "        except sr.UnknownValueError:\n",
    "            text = \"[Unintelligible]\"\n",
    "        except sr.RequestError as e:\n",
    "            text = f\"[Error: {e}]\"\n",
    "\n",
    "        # Store speaker and their text\n",
    "        speaker_segments.append({\"speaker\": speaker, \"start\": turn.start, \"end\": turn.end, \"text\": text})\n",
    "\n",
    "# Display the results\n",
    "for segment in speaker_segments:\n",
    "    print(f\"{segment['speaker']} [{segment['start']:.2f}s - {segment['end']:.2f}s]: {segment['text']}\")\n"
   ]
  }
 ],
 "metadata": {
  "kernelspec": {
   "display_name": ".venv",
   "language": "python",
   "name": "python3"
  },
  "language_info": {
   "codemirror_mode": {
    "name": "ipython",
    "version": 3
   },
   "file_extension": ".py",
   "mimetype": "text/x-python",
   "name": "python",
   "nbconvert_exporter": "python",
   "pygments_lexer": "ipython3",
   "version": "3.12.5"
  }
 },
 "nbformat": 4,
 "nbformat_minor": 2
}
